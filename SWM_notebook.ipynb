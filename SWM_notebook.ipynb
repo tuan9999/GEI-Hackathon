{
 "cells": [
  {
   "cell_type": "markdown",
   "metadata": {},
   "source": [
    "# Exploring the dataset"
   ]
  },
  {
   "cell_type": "code",
   "execution_count": 104,
   "metadata": {
    "scrolled": true
   },
   "outputs": [
    {
     "name": "stderr",
     "output_type": "stream",
     "text": [
      "/Users/flintlouis/miniconda3/envs/python3/lib/python3.8/site-packages/IPython/core/interactiveshell.py:3145: DtypeWarning: Columns (11,12,13,25,27,28,29,30,31,32,33,34,35,36,37,38,39,40,41,42,43,44,45,46,47,48,49,50,51,52,53,54,55,56,57,58,59,60,61) have mixed types.Specify dtype option on import or set low_memory=False.\n",
      "  has_raised = await self.run_ast_nodes(code_ast.body, cell_name,\n"
     ]
    },
    {
     "data": {
      "text/plain": [
       "['Respondent',\n",
       " 'Hobby',\n",
       " 'OpenSource',\n",
       " 'Country',\n",
       " 'Student',\n",
       " 'Employment',\n",
       " 'FormalEducation',\n",
       " 'UndergradMajor',\n",
       " 'DevType',\n",
       " 'YearsCoding',\n",
       " 'YearsCodingProf',\n",
       " 'JobSatisfaction',\n",
       " 'CareerSatisfaction',\n",
       " 'HopeFiveYears',\n",
       " 'AssessBenefits1',\n",
       " 'AssessBenefits2',\n",
       " 'AssessBenefits3',\n",
       " 'AssessBenefits4',\n",
       " 'AssessBenefits5',\n",
       " 'AssessBenefits6',\n",
       " 'AssessBenefits7',\n",
       " 'AssessBenefits8',\n",
       " 'AssessBenefits9',\n",
       " 'AssessBenefits10',\n",
       " 'AssessBenefits11',\n",
       " 'Salary',\n",
       " 'ConvertedSalary',\n",
       " 'CurrencySymbol',\n",
       " 'CommunicationTools',\n",
       " 'EducationTypes',\n",
       " 'SelfTaughtTypes',\n",
       " 'TimeAfterBootcamp',\n",
       " 'HackathonReasons',\n",
       " 'AgreeDisagree1',\n",
       " 'AgreeDisagree2',\n",
       " 'AgreeDisagree3',\n",
       " 'LanguageWorkedWith',\n",
       " 'LanguageDesireNextYear',\n",
       " 'DatabaseWorkedWith',\n",
       " 'DatabaseDesireNextYear',\n",
       " 'PlatformWorkedWith',\n",
       " 'PlatformDesireNextYear',\n",
       " 'FrameworkWorkedWith',\n",
       " 'FrameworkDesireNextYear',\n",
       " 'IDE',\n",
       " 'OperatingSystem',\n",
       " 'NumberMonitors',\n",
       " 'EthicsChoice',\n",
       " 'EthicsReport',\n",
       " 'EthicsResponsible',\n",
       " 'EthicalImplications',\n",
       " 'WakeTime',\n",
       " 'HoursComputer',\n",
       " 'HoursOutside',\n",
       " 'SkipMeals',\n",
       " 'Exercise',\n",
       " 'Gender',\n",
       " 'SexualOrientation',\n",
       " 'EducationParents',\n",
       " 'RaceEthnicity',\n",
       " 'Age',\n",
       " 'Dependents']"
      ]
     },
     "execution_count": 104,
     "metadata": {},
     "output_type": "execute_result"
    }
   ],
   "source": [
    "import pandas as pd\n",
    "import matplotlib.pyplot as plt\n",
    "\n",
    "\n",
    "file_path = 'mega_inc_dataset.csv'\n",
    "df = pd.read_csv(file_path)\n",
    "list(df.columns)"
   ]
  },
  {
   "cell_type": "markdown",
   "metadata": {},
   "source": [
    "### Sexual Orientation"
   ]
  },
  {
   "cell_type": "code",
   "execution_count": 4,
   "metadata": {},
   "outputs": [
    {
     "data": {
      "text/plain": [
       "['Straight or heterosexual',\n",
       " nan,\n",
       " 'Bisexual or Queer',\n",
       " 'Asexual',\n",
       " 'Gay or Lesbian',\n",
       " 'Straight or heterosexual;Bisexual or Queer',\n",
       " 'Straight or heterosexual;Asexual',\n",
       " 'Gay or Lesbian;Bisexual or Queer',\n",
       " 'Straight or heterosexual;Gay or Lesbian;Bisexual or Queer',\n",
       " 'Bisexual or Queer;Asexual',\n",
       " 'Straight or heterosexual;Gay or Lesbian;Bisexual or Queer;Asexual',\n",
       " 'Straight or heterosexual;Gay or Lesbian',\n",
       " 'Straight or heterosexual;Bisexual or Queer;Asexual',\n",
       " 'Gay or Lesbian;Asexual',\n",
       " 'Gay or Lesbian;Bisexual or Queer;Asexual']"
      ]
     },
     "execution_count": 4,
     "metadata": {},
     "output_type": "execute_result"
    }
   ],
   "source": [
    "list(df.SexualOrientation.unique())"
   ]
  },
  {
   "cell_type": "code",
   "execution_count": 13,
   "metadata": {},
   "outputs": [
    {
     "name": "stdout",
     "output_type": "stream",
     "text": [
      "straight:     55013\n",
      "notStraight:  43842\n",
      "straight in company % 55.650194729654544\n"
     ]
    }
   ],
   "source": [
    "straight = df.loc[df.SexualOrientation == 'Straight or heterosexual']\n",
    "notStraight = df.loc[df.SexualOrientation != 'Straight or heterosexual']\n",
    "print(\"straight:    \", len(straight))\n",
    "print(\"notStraight: \", len(notStraight))\n",
    "print(\"straight in company %\", (len(straight)/len(df)) * 100)"
   ]
  },
  {
   "cell_type": "code",
   "execution_count": 108,
   "metadata": {},
   "outputs": [
    {
     "data": {
      "image/png": "[encoded data removed]",
      "text/plain": [
       "<Figure size 432x288 with 1 Axes>"
      ]
     },
     "metadata": {},
     "output_type": "display_data"
    }
   ],
   "source": [
    "# Pie chart, where the slices will be ordered and plotted counter-clockwise:\n",
    "labels = 'Straight', 'not Straight'\n",
    "strt = len(df.loc[df.SexualOrientation == 'Straight or heterosexual'])\n",
    "other = len(df) - strt\n",
    "\n",
    "sizes = [strt, other]\n",
    "explode = (0.1, 0)\n",
    "\n",
    "fig1, ax1 = plt.subplots()\n",
    "ax1.pie(sizes, explode=explode, labels=labels, autopct='%1.1f%%',\n",
    "        shadow=True, startangle=90)\n",
    "ax1.axis('equal')  # Equal aspect ratio ensures that pie is drawn as a circle.\n",
    "\n",
    "plt.show()"
   ]
  },
  {
   "cell_type": "markdown",
   "metadata": {},
   "source": [
    "### Genders"
   ]
  },
  {
   "cell_type": "code",
   "execution_count": 8,
   "metadata": {},
   "outputs": [
    {
     "data": {
      "text/plain": [
       "['Male',\n",
       " nan,\n",
       " 'Female',\n",
       " 'Female;Male;Transgender;Non-binary, genderqueer, or gender non-conforming',\n",
       " 'Female;Male',\n",
       " 'Male;Non-binary, genderqueer, or gender non-conforming',\n",
       " 'Non-binary, genderqueer, or gender non-conforming',\n",
       " 'Transgender',\n",
       " 'Female;Transgender',\n",
       " 'Transgender;Non-binary, genderqueer, or gender non-conforming',\n",
       " 'Female;Non-binary, genderqueer, or gender non-conforming',\n",
       " 'Female;Transgender;Non-binary, genderqueer, or gender non-conforming',\n",
       " 'Male;Transgender',\n",
       " 'Female;Male;Transgender',\n",
       " 'Female;Male;Non-binary, genderqueer, or gender non-conforming',\n",
       " 'Male;Transgender;Non-binary, genderqueer, or gender non-conforming']"
      ]
     },
     "execution_count": 8,
     "metadata": {},
     "output_type": "execute_result"
    }
   ],
   "source": [
    "list(df.Gender.unique())"
   ]
  },
  {
   "cell_type": "code",
   "execution_count": 14,
   "metadata": {},
   "outputs": [
    {
     "name": "stdout",
     "output_type": "stream",
     "text": [
      "male:     59458\n",
      "no male:  39397\n",
      "male in company % 60.14667948004653\n"
     ]
    }
   ],
   "source": [
    "male = df.loc[df.Gender == 'Male']\n",
    "noMale = df.loc[df.Gender != 'Male']\n",
    "print(\"male:    \", len(male))\n",
    "print(\"no male: \", len(noMale))\n",
    "print(\"male in company %\", (len(male)/len(df)) * 100)"
   ]
  },
  {
   "cell_type": "code",
   "execution_count": 110,
   "metadata": {},
   "outputs": [
    {
     "data": {
      "image/png": "[encoded data removed]",
      "text/plain": [
       "<Figure size 432x288 with 1 Axes>"
      ]
     },
     "metadata": {},
     "output_type": "display_data"
    }
   ],
   "source": [
    "# Pie chart, where the slices will be ordered and plotted counter-clockwise:\n",
    "labels = 'Male', 'not Male'\n",
    "strt = len(df.loc[df.Gender == 'Male'])\n",
    "other = len(df) - strt\n",
    "\n",
    "sizes = [strt, other]\n",
    "explode = (0.1, 0)\n",
    "\n",
    "fig1, ax1 = plt.subplots()\n",
    "ax1.pie(sizes, explode=explode, labels=labels, autopct='%1.1f%%',\n",
    "        shadow=True, startangle=90)\n",
    "ax1.axis('equal')  # Equal aspect ratio ensures that pie is drawn as a circle.\n",
    "\n",
    "plt.show()"
   ]
  },
  {
   "cell_type": "markdown",
   "metadata": {},
   "source": [
    "### Ethnicity"
   ]
  },
  {
   "cell_type": "code",
   "execution_count": 34,
   "metadata": {
    "scrolled": true
   },
   "outputs": [
    {
     "data": {
      "text/plain": [
       "['Black or of African descent',\n",
       " 'White or of European descent',\n",
       " nan,\n",
       " 'Hispanic or Latino/Latina;White or of European descent',\n",
       " 'Black or of African descent;East Asian;Hispanic or Latino/Latina;Middle Eastern;Native American, Pacific Islander, or Indigenous Australian;South Asian;White or of European descent',\n",
       " 'South Asian',\n",
       " 'East Asian',\n",
       " 'Hispanic or Latino/Latina',\n",
       " 'Black or of African descent;Hispanic or Latino/Latina',\n",
       " 'Middle Eastern',\n",
       " 'Middle Eastern;White or of European descent',\n",
       " 'East Asian;White or of European descent',\n",
       " 'South Asian;White or of European descent',\n",
       " 'East Asian;South Asian',\n",
       " 'Native American, Pacific Islander, or Indigenous Australian',\n",
       " 'Black or of African descent;White or of European descent',\n",
       " 'Native American, Pacific Islander, or Indigenous Australian;White or of European descent',\n",
       " 'Black or of African descent;Middle Eastern',\n",
       " 'Black or of African descent;Hispanic or Latino/Latina;White or of European descent',\n",
       " 'East Asian;Hispanic or Latino/Latina;Middle Eastern',\n",
       " 'Black or of African descent;South Asian;White or of European descent',\n",
       " 'East Asian;Hispanic or Latino/Latina',\n",
       " 'Black or of African descent;Native American, Pacific Islander, or Indigenous Australian;White or of European descent',\n",
       " 'Black or of African descent;Hispanic or Latino/Latina;Native American, Pacific Islander, or Indigenous Australian',\n",
       " 'Middle Eastern;South Asian',\n",
       " 'East Asian;Native American, Pacific Islander, or Indigenous Australian',\n",
       " 'Hispanic or Latino/Latina;South Asian',\n",
       " 'Hispanic or Latino/Latina;South Asian;White or of European descent',\n",
       " 'Black or of African descent;South Asian',\n",
       " 'East Asian;Native American, Pacific Islander, or Indigenous Australian;White or of European descent',\n",
       " 'Hispanic or Latino/Latina;Middle Eastern;White or of European descent',\n",
       " 'East Asian;Hispanic or Latino/Latina;Native American, Pacific Islander, or Indigenous Australian;South Asian;White or of European descent',\n",
       " 'Hispanic or Latino/Latina;Middle Eastern',\n",
       " 'Native American, Pacific Islander, or Indigenous Australian;South Asian',\n",
       " 'Black or of African descent;Hispanic or Latino/Latina;South Asian',\n",
       " 'East Asian;South Asian;White or of European descent',\n",
       " 'Black or of African descent;Hispanic or Latino/Latina;Middle Eastern;Native American, Pacific Islander, or Indigenous Australian;White or of European descent',\n",
       " 'Hispanic or Latino/Latina;Middle Eastern;Native American, Pacific Islander, or Indigenous Australian',\n",
       " 'East Asian;Hispanic or Latino/Latina;Middle Eastern;Native American, Pacific Islander, or Indigenous Australian;South Asian;White or of European descent',\n",
       " 'Black or of African descent;East Asian;White or of European descent',\n",
       " 'Black or of African descent;Native American, Pacific Islander, or Indigenous Australian',\n",
       " 'Black or of African descent;Middle Eastern;White or of European descent',\n",
       " 'Black or of African descent;East Asian',\n",
       " 'Hispanic or Latino/Latina;Native American, Pacific Islander, or Indigenous Australian;White or of European descent',\n",
       " 'Black or of African descent;East Asian;Native American, Pacific Islander, or Indigenous Australian;White or of European descent',\n",
       " 'East Asian;Middle Eastern;White or of European descent',\n",
       " 'East Asian;Middle Eastern',\n",
       " 'Hispanic or Latino/Latina;Native American, Pacific Islander, or Indigenous Australian',\n",
       " 'Middle Eastern;South Asian;White or of European descent',\n",
       " 'Native American, Pacific Islander, or Indigenous Australian;South Asian;White or of European descent',\n",
       " 'East Asian;Hispanic or Latino/Latina;White or of European descent',\n",
       " 'East Asian;Hispanic or Latino/Latina;Native American, Pacific Islander, or Indigenous Australian;White or of European descent',\n",
       " 'Black or of African descent;East Asian;Hispanic or Latino/Latina',\n",
       " 'Middle Eastern;Native American, Pacific Islander, or Indigenous Australian',\n",
       " 'East Asian;Middle Eastern;South Asian',\n",
       " 'East Asian;Native American, Pacific Islander, or Indigenous Australian;South Asian',\n",
       " 'Black or of African descent;East Asian;Middle Eastern;Native American, Pacific Islander, or Indigenous Australian;South Asian;White or of European descent',\n",
       " 'Black or of African descent;East Asian;Hispanic or Latino/Latina;White or of European descent',\n",
       " 'East Asian;Hispanic or Latino/Latina;Middle Eastern;Native American, Pacific Islander, or Indigenous Australian;White or of European descent',\n",
       " 'Black or of African descent;Hispanic or Latino/Latina;Native American, Pacific Islander, or Indigenous Australian;White or of European descent',\n",
       " 'Black or of African descent;East Asian;Hispanic or Latino/Latina;Middle Eastern;Native American, Pacific Islander, or Indigenous Australian;South Asian',\n",
       " 'Black or of African descent;East Asian;South Asian',\n",
       " 'Black or of African descent;East Asian;Hispanic or Latino/Latina;Middle Eastern;Native American, Pacific Islander, or Indigenous Australian',\n",
       " 'Black or of African descent;East Asian;Hispanic or Latino/Latina;Middle Eastern;Native American, Pacific Islander, or Indigenous Australian;White or of European descent',\n",
       " 'Black or of African descent;Hispanic or Latino/Latina;Native American, Pacific Islander, or Indigenous Australian;South Asian',\n",
       " 'Black or of African descent;East Asian;Native American, Pacific Islander, or Indigenous Australian',\n",
       " 'East Asian;Hispanic or Latino/Latina;Native American, Pacific Islander, or Indigenous Australian',\n",
       " 'Hispanic or Latino/Latina;Middle Eastern;Native American, Pacific Islander, or Indigenous Australian;White or of European descent',\n",
       " 'Black or of African descent;East Asian;Native American, Pacific Islander, or Indigenous Australian;South Asian;White or of European descent',\n",
       " 'Black or of African descent;Hispanic or Latino/Latina;Middle Eastern',\n",
       " 'Black or of African descent;Middle Eastern;Native American, Pacific Islander, or Indigenous Australian;White or of European descent',\n",
       " 'East Asian;Middle Eastern;South Asian;White or of European descent']"
      ]
     },
     "execution_count": 34,
     "metadata": {},
     "output_type": "execute_result"
    }
   ],
   "source": [
    "list(df.RaceEthnicity.unique())"
   ]
  },
  {
   "cell_type": "code",
   "execution_count": 16,
   "metadata": {},
   "outputs": [
    {
     "name": "stdout",
     "output_type": "stream",
     "text": [
      "white:      40541\n",
      "not white:  58314\n",
      "white in company % 41.01057103838956\n"
     ]
    }
   ],
   "source": [
    "white = df.loc[df.RaceEthnicity == 'White or of European descent']\n",
    "notWhite = df.loc[df.RaceEthnicity != 'White or of European descent']\n",
    "\n",
    "print(\"white:     \", len(white))\n",
    "print(\"not white: \", len(notWhite))\n",
    "print(\"white in company %\", (len(white)/len(df)) * 100)"
   ]
  },
  {
   "cell_type": "code",
   "execution_count": 113,
   "metadata": {},
   "outputs": [
    {
     "data": {
      "image/png": "[encoded data removed]",
      "text/plain": [
       "<Figure size 432x288 with 1 Axes>"
      ]
     },
     "metadata": {},
     "output_type": "display_data"
    }
   ],
   "source": [
    "# Pie chart, where the slices will be ordered and plotted counter-clockwise:\n",
    "labels = 'White', 'not White'\n",
    "strt = len(df.loc[df.RaceEthnicity == 'White or of European descent'])\n",
    "other = len(df) - strt\n",
    "\n",
    "sizes = [strt, other]\n",
    "explode = (0.1, 0)\n",
    "\n",
    "fig1, ax1 = plt.subplots()\n",
    "ax1.pie(sizes, explode=explode, labels=labels, autopct='%1.1f%%',\n",
    "        shadow=True, startangle=90)\n",
    "ax1.axis('equal')  # Equal aspect ratio ensures that pie is drawn as a circle.\n",
    "\n",
    "plt.show()"
   ]
  },
  {
   "cell_type": "markdown",
   "metadata": {},
   "source": [
    "### White Straight Males"
   ]
  },
  {
   "cell_type": "code",
   "execution_count": 29,
   "metadata": {},
   "outputs": [
    {
     "name": "stdout",
     "output_type": "stream",
     "text": [
      "wsm:     34074\n",
      "normal:  64781\n",
      "wsm in company % 34.4686662283142\n"
     ]
    }
   ],
   "source": [
    "wsm = df.loc[df.Gender == 'Male']\n",
    "wsm = wsm.loc[df.RaceEthnicity == 'White or of European descent']\n",
    "wsm = wsm.loc[df.SexualOrientation == 'Straight or heterosexual']\n",
    "\n",
    "print(\"wsm:    \", len(wsm))\n",
    "print(\"normal: \", len(df) - len(wsm))\n",
    "print(\"wsm in company %\", (len(wsm)/len(df)) * 100)"
   ]
  },
  {
   "cell_type": "code",
   "execution_count": 114,
   "metadata": {},
   "outputs": [
    {
     "data": {
      "image/png": "[encoded data removed]",
      "text/plain": [
       "<Figure size 432x288 with 1 Axes>"
      ]
     },
     "metadata": {},
     "output_type": "display_data"
    }
   ],
   "source": [
    "# Pie chart, where the slices will be ordered and plotted counter-clockwise:\n",
    "labels = 'WSM', 'not WSM'\n",
    "strt = len(wsm)\n",
    "other = len(df) - strt\n",
    "\n",
    "sizes = [strt, other]\n",
    "explode = (0.1, 0)\n",
    "\n",
    "fig1, ax1 = plt.subplots()\n",
    "ax1.pie(sizes, explode=explode, labels=labels, autopct='%1.1f%%',\n",
    "        shadow=True, startangle=90)\n",
    "ax1.axis('equal')  # Equal aspect ratio ensures that pie is drawn as a circle.\n",
    "\n",
    "plt.show()"
   ]
  },
  {
   "cell_type": "markdown",
   "metadata": {},
   "source": [
    "# Linear Reg Test"
   ]
  },
  {
   "cell_type": "code",
   "execution_count": 115,
   "metadata": {},
   "outputs": [],
   "source": [
    "import pandas as pd\n",
    "import numpy as np\n",
    "from sklearn.linear_model import LinearRegression\n",
    "from sklearn import datasets\n",
    "from sklearn.metrics import mean_squared_error, r2_score"
   ]
  },
  {
   "cell_type": "code",
   "execution_count": 75,
   "metadata": {},
   "outputs": [],
   "source": [
    "df.drop(df.loc[ df['ConvertedSalary'] == 0.0 ].index , inplace=True)\n",
    "df['LnConvertedSalary'] = np.log(df['ConvertedSalary'])"
   ]
  },
  {
   "cell_type": "code",
   "execution_count": 76,
   "metadata": {},
   "outputs": [],
   "source": [
    "df.drop(df.columns.difference(['RaceEthnicity','SexualOrientation','LnConvertedSalary','ConvertedSalary','YearsCoding','Gender','Dependents']), 1, inplace=True)"
   ]
  },
  {
   "cell_type": "code",
   "execution_count": 77,
   "metadata": {},
   "outputs": [
    {
     "data": {
      "text/html": [
       "<div>\n",
       "<style scoped>\n",
       "    .dataframe tbody tr th:only-of-type {\n",
       "        vertical-align: middle;\n",
       "    }\n",
       "\n",
       "    .dataframe tbody tr th {\n",
       "        vertical-align: top;\n",
       "    }\n",
       "\n",
       "    .dataframe thead th {\n",
       "        text-align: right;\n",
       "    }\n",
       "</style>\n",
       "<table border=\"1\" class=\"dataframe\">\n",
       "  <thead>\n",
       "    <tr style=\"text-align: right;\">\n",
       "      <th></th>\n",
       "      <th>YearsCoding</th>\n",
       "      <th>ConvertedSalary</th>\n",
       "      <th>Gender</th>\n",
       "      <th>SexualOrientation</th>\n",
       "      <th>RaceEthnicity</th>\n",
       "      <th>Age</th>\n",
       "      <th>Dependents</th>\n",
       "      <th>LnConvertedSalary</th>\n",
       "    </tr>\n",
       "  </thead>\n",
       "  <tbody>\n",
       "    <tr>\n",
       "      <th>0</th>\n",
       "      <td>4.0</td>\n",
       "      <td>NaN</td>\n",
       "      <td>Male</td>\n",
       "      <td>Straight or heterosexual</td>\n",
       "      <td>Black or of African descent</td>\n",
       "      <td>25 - 34 years old</td>\n",
       "      <td>Yes</td>\n",
       "      <td>NaN</td>\n",
       "    </tr>\n",
       "    <tr>\n",
       "      <th>1</th>\n",
       "      <td>30.0</td>\n",
       "      <td>70841.0</td>\n",
       "      <td>Male</td>\n",
       "      <td>Straight or heterosexual</td>\n",
       "      <td>White or of European descent</td>\n",
       "      <td>35 - 44 years old</td>\n",
       "      <td>Yes</td>\n",
       "      <td>11.168193</td>\n",
       "    </tr>\n",
       "    <tr>\n",
       "      <th>2</th>\n",
       "      <td>25.0</td>\n",
       "      <td>NaN</td>\n",
       "      <td>NaN</td>\n",
       "      <td>NaN</td>\n",
       "      <td>NaN</td>\n",
       "      <td>NaN</td>\n",
       "      <td>NaN</td>\n",
       "      <td>NaN</td>\n",
       "    </tr>\n",
       "    <tr>\n",
       "      <th>3</th>\n",
       "      <td>19.0</td>\n",
       "      <td>NaN</td>\n",
       "      <td>Male</td>\n",
       "      <td>Straight or heterosexual</td>\n",
       "      <td>White or of European descent</td>\n",
       "      <td>35 - 44 years old</td>\n",
       "      <td>No</td>\n",
       "      <td>NaN</td>\n",
       "    </tr>\n",
       "    <tr>\n",
       "      <th>4</th>\n",
       "      <td>7.0</td>\n",
       "      <td>21426.0</td>\n",
       "      <td>Male</td>\n",
       "      <td>Straight or heterosexual</td>\n",
       "      <td>White or of European descent</td>\n",
       "      <td>18 - 24 years old</td>\n",
       "      <td>Yes</td>\n",
       "      <td>9.972360</td>\n",
       "    </tr>\n",
       "    <tr>\n",
       "      <th>...</th>\n",
       "      <td>...</td>\n",
       "      <td>...</td>\n",
       "      <td>...</td>\n",
       "      <td>...</td>\n",
       "      <td>...</td>\n",
       "      <td>...</td>\n",
       "      <td>...</td>\n",
       "      <td>...</td>\n",
       "    </tr>\n",
       "    <tr>\n",
       "      <th>98850</th>\n",
       "      <td>NaN</td>\n",
       "      <td>NaN</td>\n",
       "      <td>NaN</td>\n",
       "      <td>NaN</td>\n",
       "      <td>NaN</td>\n",
       "      <td>NaN</td>\n",
       "      <td>NaN</td>\n",
       "      <td>NaN</td>\n",
       "    </tr>\n",
       "    <tr>\n",
       "      <th>98851</th>\n",
       "      <td>1.0</td>\n",
       "      <td>NaN</td>\n",
       "      <td>NaN</td>\n",
       "      <td>NaN</td>\n",
       "      <td>NaN</td>\n",
       "      <td>NaN</td>\n",
       "      <td>NaN</td>\n",
       "      <td>NaN</td>\n",
       "    </tr>\n",
       "    <tr>\n",
       "      <th>98852</th>\n",
       "      <td>NaN</td>\n",
       "      <td>NaN</td>\n",
       "      <td>NaN</td>\n",
       "      <td>NaN</td>\n",
       "      <td>NaN</td>\n",
       "      <td>NaN</td>\n",
       "      <td>NaN</td>\n",
       "      <td>NaN</td>\n",
       "    </tr>\n",
       "    <tr>\n",
       "      <th>98853</th>\n",
       "      <td>NaN</td>\n",
       "      <td>NaN</td>\n",
       "      <td>NaN</td>\n",
       "      <td>NaN</td>\n",
       "      <td>NaN</td>\n",
       "      <td>NaN</td>\n",
       "      <td>NaN</td>\n",
       "      <td>NaN</td>\n",
       "    </tr>\n",
       "    <tr>\n",
       "      <th>98854</th>\n",
       "      <td>NaN</td>\n",
       "      <td>NaN</td>\n",
       "      <td>NaN</td>\n",
       "      <td>NaN</td>\n",
       "      <td>NaN</td>\n",
       "      <td>NaN</td>\n",
       "      <td>NaN</td>\n",
       "      <td>NaN</td>\n",
       "    </tr>\n",
       "  </tbody>\n",
       "</table>\n",
       "<p>98013 rows × 8 columns</p>\n",
       "</div>"
      ],
      "text/plain": [
       "       YearsCoding  ConvertedSalary Gender         SexualOrientation  \\\n",
       "0              4.0              NaN   Male  Straight or heterosexual   \n",
       "1             30.0          70841.0   Male  Straight or heterosexual   \n",
       "2             25.0              NaN    NaN                       NaN   \n",
       "3             19.0              NaN   Male  Straight or heterosexual   \n",
       "4              7.0          21426.0   Male  Straight or heterosexual   \n",
       "...            ...              ...    ...                       ...   \n",
       "98850          NaN              NaN    NaN                       NaN   \n",
       "98851          1.0              NaN    NaN                       NaN   \n",
       "98852          NaN              NaN    NaN                       NaN   \n",
       "98853          NaN              NaN    NaN                       NaN   \n",
       "98854          NaN              NaN    NaN                       NaN   \n",
       "\n",
       "                      RaceEthnicity                Age Dependents  \\\n",
       "0       Black or of African descent  25 - 34 years old        Yes   \n",
       "1      White or of European descent  35 - 44 years old        Yes   \n",
       "2                               NaN                NaN        NaN   \n",
       "3      White or of European descent  35 - 44 years old         No   \n",
       "4      White or of European descent  18 - 24 years old        Yes   \n",
       "...                             ...                ...        ...   \n",
       "98850                           NaN                NaN        NaN   \n",
       "98851                           NaN                NaN        NaN   \n",
       "98852                           NaN                NaN        NaN   \n",
       "98853                           NaN                NaN        NaN   \n",
       "98854                           NaN                NaN        NaN   \n",
       "\n",
       "       LnConvertedSalary  \n",
       "0                    NaN  \n",
       "1              11.168193  \n",
       "2                    NaN  \n",
       "3                    NaN  \n",
       "4               9.972360  \n",
       "...                  ...  \n",
       "98850                NaN  \n",
       "98851                NaN  \n",
       "98852                NaN  \n",
       "98853                NaN  \n",
       "98854                NaN  \n",
       "\n",
       "[98013 rows x 8 columns]"
      ]
     },
     "execution_count": 77,
     "metadata": {},
     "output_type": "execute_result"
    }
   ],
   "source": [
    "df[\"YearsCoding\"].replace({'3-5 years': 4,\n",
    "                           '30 or more years': 30,\n",
    "                           '24-26 years' : 25,\n",
    "                           '18-20 years' : 19,\n",
    "                           '6-8 years' : 7,\n",
    "                           '9-11 years' : 10,\n",
    "                           '0-2 years' : 1,\n",
    "                           '15-17 years' : 16,\n",
    "                           '12-14 years' : 13,\n",
    "                           '21-23 years' : 22,\n",
    "                           '27-29 years' : 28}, inplace=True)\n",
    "\n",
    "df"
   ]
  },
  {
   "cell_type": "code",
   "execution_count": 94,
   "metadata": {},
   "outputs": [],
   "source": [
    "compare = ['YearsCoding', 'ConvertedSalary']\n",
    "yvalue = 'ConvertedSalary'"
   ]
  },
  {
   "cell_type": "markdown",
   "metadata": {},
   "source": [
    "Get all data according to straight white males and drop all Nan values"
   ]
  },
  {
   "cell_type": "code",
   "execution_count": 95,
   "metadata": {},
   "outputs": [
    {
     "data": {
      "text/html": [
       "<div>\n",
       "<style scoped>\n",
       "    .dataframe tbody tr th:only-of-type {\n",
       "        vertical-align: middle;\n",
       "    }\n",
       "\n",
       "    .dataframe tbody tr th {\n",
       "        vertical-align: top;\n",
       "    }\n",
       "\n",
       "    .dataframe thead th {\n",
       "        text-align: right;\n",
       "    }\n",
       "</style>\n",
       "<table border=\"1\" class=\"dataframe\">\n",
       "  <thead>\n",
       "    <tr style=\"text-align: right;\">\n",
       "      <th></th>\n",
       "      <th>YearsCoding</th>\n",
       "      <th>ConvertedSalary</th>\n",
       "    </tr>\n",
       "  </thead>\n",
       "  <tbody>\n",
       "    <tr>\n",
       "      <th>1</th>\n",
       "      <td>30.0</td>\n",
       "      <td>70841.0</td>\n",
       "    </tr>\n",
       "    <tr>\n",
       "      <th>4</th>\n",
       "      <td>7.0</td>\n",
       "      <td>21426.0</td>\n",
       "    </tr>\n",
       "    <tr>\n",
       "      <th>5</th>\n",
       "      <td>7.0</td>\n",
       "      <td>41671.0</td>\n",
       "    </tr>\n",
       "    <tr>\n",
       "      <th>6</th>\n",
       "      <td>10.0</td>\n",
       "      <td>120000.0</td>\n",
       "    </tr>\n",
       "    <tr>\n",
       "      <th>8</th>\n",
       "      <td>30.0</td>\n",
       "      <td>250000.0</td>\n",
       "    </tr>\n",
       "    <tr>\n",
       "      <th>...</th>\n",
       "      <td>...</td>\n",
       "      <td>...</td>\n",
       "    </tr>\n",
       "    <tr>\n",
       "      <th>89846</th>\n",
       "      <td>4.0</td>\n",
       "      <td>18350.0</td>\n",
       "    </tr>\n",
       "    <tr>\n",
       "      <th>89853</th>\n",
       "      <td>1.0</td>\n",
       "      <td>21600.0</td>\n",
       "    </tr>\n",
       "    <tr>\n",
       "      <th>89896</th>\n",
       "      <td>4.0</td>\n",
       "      <td>8050.0</td>\n",
       "    </tr>\n",
       "    <tr>\n",
       "      <th>89932</th>\n",
       "      <td>7.0</td>\n",
       "      <td>97233.0</td>\n",
       "    </tr>\n",
       "    <tr>\n",
       "      <th>89954</th>\n",
       "      <td>4.0</td>\n",
       "      <td>10284.0</td>\n",
       "    </tr>\n",
       "  </tbody>\n",
       "</table>\n",
       "<p>25530 rows × 2 columns</p>\n",
       "</div>"
      ],
      "text/plain": [
       "       YearsCoding  ConvertedSalary\n",
       "1             30.0          70841.0\n",
       "4              7.0          21426.0\n",
       "5              7.0          41671.0\n",
       "6             10.0         120000.0\n",
       "8             30.0         250000.0\n",
       "...            ...              ...\n",
       "89846          4.0          18350.0\n",
       "89853          1.0          21600.0\n",
       "89896          4.0           8050.0\n",
       "89932          7.0          97233.0\n",
       "89954          4.0          10284.0\n",
       "\n",
       "[25530 rows x 2 columns]"
      ]
     },
     "execution_count": 95,
     "metadata": {},
     "output_type": "execute_result"
    }
   ],
   "source": [
    "X_SWMdata = df.loc[df.Gender == 'Male']\n",
    "X_SWMdata = X_SWMdata.loc[df.RaceEthnicity == 'White or of European descent']\n",
    "X_SWMdata = X_SWMdata.loc[df.SexualOrientation == 'Straight or heterosexual'][compare]\n",
    "X_SWMdata = X_SWMdata.dropna()\n",
    "X_SWMdata"
   ]
  },
  {
   "cell_type": "markdown",
   "metadata": {},
   "source": [
    "Get all data that are not straight white males and drop all Nan values"
   ]
  },
  {
   "cell_type": "code",
   "execution_count": 96,
   "metadata": {},
   "outputs": [
    {
     "data": {
      "text/html": [
       "<div>\n",
       "<style scoped>\n",
       "    .dataframe tbody tr th:only-of-type {\n",
       "        vertical-align: middle;\n",
       "    }\n",
       "\n",
       "    .dataframe tbody tr th {\n",
       "        vertical-align: top;\n",
       "    }\n",
       "\n",
       "    .dataframe thead th {\n",
       "        text-align: right;\n",
       "    }\n",
       "</style>\n",
       "<table border=\"1\" class=\"dataframe\">\n",
       "  <thead>\n",
       "    <tr style=\"text-align: right;\">\n",
       "      <th></th>\n",
       "      <th>YearsCoding</th>\n",
       "      <th>ConvertedSalary</th>\n",
       "    </tr>\n",
       "  </thead>\n",
       "  <tbody>\n",
       "    <tr>\n",
       "      <th>17</th>\n",
       "      <td>7.0</td>\n",
       "      <td>47904.0</td>\n",
       "    </tr>\n",
       "    <tr>\n",
       "      <th>20</th>\n",
       "      <td>16.0</td>\n",
       "      <td>95968.0</td>\n",
       "    </tr>\n",
       "    <tr>\n",
       "      <th>23</th>\n",
       "      <td>19.0</td>\n",
       "      <td>75000.0</td>\n",
       "    </tr>\n",
       "    <tr>\n",
       "      <th>24</th>\n",
       "      <td>4.0</td>\n",
       "      <td>10958.0</td>\n",
       "    </tr>\n",
       "    <tr>\n",
       "      <th>26</th>\n",
       "      <td>13.0</td>\n",
       "      <td>72611.0</td>\n",
       "    </tr>\n",
       "    <tr>\n",
       "      <th>...</th>\n",
       "      <td>...</td>\n",
       "      <td>...</td>\n",
       "    </tr>\n",
       "    <tr>\n",
       "      <th>89898</th>\n",
       "      <td>4.0</td>\n",
       "      <td>4548.0</td>\n",
       "    </tr>\n",
       "    <tr>\n",
       "      <th>89911</th>\n",
       "      <td>4.0</td>\n",
       "      <td>10000.0</td>\n",
       "    </tr>\n",
       "    <tr>\n",
       "      <th>89913</th>\n",
       "      <td>30.0</td>\n",
       "      <td>25788.0</td>\n",
       "    </tr>\n",
       "    <tr>\n",
       "      <th>89926</th>\n",
       "      <td>4.0</td>\n",
       "      <td>372.0</td>\n",
       "    </tr>\n",
       "    <tr>\n",
       "      <th>89938</th>\n",
       "      <td>4.0</td>\n",
       "      <td>1944.0</td>\n",
       "    </tr>\n",
       "  </tbody>\n",
       "</table>\n",
       "<p>21311 rows × 2 columns</p>\n",
       "</div>"
      ],
      "text/plain": [
       "       YearsCoding  ConvertedSalary\n",
       "17             7.0          47904.0\n",
       "20            16.0          95968.0\n",
       "23            19.0          75000.0\n",
       "24             4.0          10958.0\n",
       "26            13.0          72611.0\n",
       "...            ...              ...\n",
       "89898          4.0           4548.0\n",
       "89911          4.0          10000.0\n",
       "89913         30.0          25788.0\n",
       "89926          4.0            372.0\n",
       "89938          4.0           1944.0\n",
       "\n",
       "[21311 rows x 2 columns]"
      ]
     },
     "execution_count": 96,
     "metadata": {},
     "output_type": "execute_result"
    }
   ],
   "source": [
    "X_data = df.loc[(df.Gender != 'Male') | (df.SexualOrientation != 'Straight or heterosexual') | (df.RaceEthnicity != 'White or of European descent')][compare]\n",
    "X_data = X_data.dropna()\n",
    "X_data"
   ]
  },
  {
   "cell_type": "markdown",
   "metadata": {},
   "source": [
    "Create numpy arrays and split into X and y values for LinearRegression model"
   ]
  },
  {
   "cell_type": "code",
   "execution_count": 97,
   "metadata": {},
   "outputs": [
    {
     "data": {
      "text/plain": [
       "((25530, 1), (25530,))"
      ]
     },
     "execution_count": 97,
     "metadata": {},
     "output_type": "execute_result"
    }
   ],
   "source": [
    "X_SWM, y_SWM = X_SWMdata.drop(yvalue, axis=1).to_numpy().reshape(len(X_SWMdata),-1), X_SWMdata[yvalue].to_numpy()\n",
    "X_SWM.shape, y_SWM.shape"
   ]
  },
  {
   "cell_type": "code",
   "execution_count": 98,
   "metadata": {},
   "outputs": [
    {
     "data": {
      "text/plain": [
       "((21311, 1), (21311,))"
      ]
     },
     "execution_count": 98,
     "metadata": {},
     "output_type": "execute_result"
    }
   ],
   "source": [
    "X, y = X_data.drop(yvalue, axis=1).to_numpy().reshape(len(X_data),-1), X_data[yvalue].to_numpy()\n",
    "X.shape, y.shape"
   ]
  },
  {
   "cell_type": "code",
   "execution_count": 99,
   "metadata": {},
   "outputs": [
    {
     "data": {
      "text/plain": [
       "LinearRegression()"
      ]
     },
     "execution_count": 99,
     "metadata": {},
     "output_type": "execute_result"
    }
   ],
   "source": [
    "SWMregr = LinearRegression()\n",
    "SWMregr.fit(X_SWM, y_SWM)"
   ]
  },
  {
   "cell_type": "code",
   "execution_count": 100,
   "metadata": {},
   "outputs": [
    {
     "data": {
      "text/plain": [
       "LinearRegression()"
      ]
     },
     "execution_count": 100,
     "metadata": {},
     "output_type": "execute_result"
    }
   ],
   "source": [
    "regr = LinearRegression()\n",
    "regr.fit(X, y)"
   ]
  },
  {
   "cell_type": "markdown",
   "metadata": {},
   "source": [
    "Run data that is not SWM in both LinearReg. models and compare the output"
   ]
  },
  {
   "cell_type": "code",
   "execution_count": 101,
   "metadata": {},
   "outputs": [],
   "source": [
    "pred = regr.predict(X)\n",
    "SWM_pred = SWMregr.predict(X)"
   ]
  },
  {
   "cell_type": "code",
   "execution_count": 102,
   "metadata": {},
   "outputs": [],
   "source": [
    "def compare_regr(X, pred1, pred2):\n",
    "    plt.plot(X, pred1, color='blue')\n",
    "    plt.plot(X, pred2, color='black')\n",
    "    # plt.xticks(())\n",
    "    # plt.yticks(())\n",
    "    plt.show()"
   ]
  },
  {
   "cell_type": "markdown",
   "metadata": {},
   "source": [
    "It looks like as a non white straight male you get paid more when you start off in the company"
   ]
  },
  {
   "cell_type": "code",
   "execution_count": 103,
   "metadata": {},
   "outputs": [
    {
     "data": {
      "image/png": "[encoded data removed]",
      "text/plain": [
       "<Figure size 432x288 with 1 Axes>"
      ]
     },
     "metadata": {
      "needs_background": "light"
     },
     "output_type": "display_data"
    }
   ],
   "source": [
    "compare_regr(X, SWM_pred, pred)"
   ]
  },
  {
   "cell_type": "code",
   "execution_count": null,
   "metadata": {},
   "outputs": [],
   "source": []
  }
 ],
 "metadata": {
  "kernelspec": {
   "display_name": "Python 3",
   "language": "python",
   "name": "python3"
  },
  "language_info": {
   "codemirror_mode": {
    "name": "ipython",
    "version": 3
   },
   "file_extension": ".py",
   "mimetype": "text/x-python",
   "name": "python",
   "nbconvert_exporter": "python",
   "pygments_lexer": "ipython3",
   "version": "3.8.5"
  }
 },
 "nbformat": 4,
 "nbformat_minor": 4
}
